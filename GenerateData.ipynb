{
 "cells": [
  {
   "cell_type": "markdown",
   "metadata": {},
   "source": [
    "# Introducing a Family of Synthetic Datasets for Research on Bias in Machine Learning\n",
    "\n",
    "### William Blanzeisky, Pádraig Cunningham, Kenneth Kennedy"
   ]
  },
  {
   "cell_type": "code",
   "execution_count": 4,
   "metadata": {},
   "outputs": [],
   "source": [
    "import numpy as np\n",
    "import pandas as pd"
   ]
  },
  {
   "cell_type": "code",
   "execution_count": 3,
   "metadata": {},
   "outputs": [],
   "source": [
    "## Read in the base data: small, medium or large\n",
    "base_dataset = pd.read_csv(\"large.csv\")"
   ]
  },
  {
   "cell_type": "code",
   "execution_count": 86,
   "metadata": {},
   "outputs": [],
   "source": [
    "def find_threshold(df,feature,ppc):\n",
    "    return np.quantile(df[str(feature)].values,ppc)\n",
    "\n",
    "def generate_datasets(df,ppc_label,ppc_SA):\n",
    "    #filter class label\n",
    "    df['Label'] = 1\n",
    "    df.loc[df['Score'] >= find_threshold(df,'Score',ppc_label),'Label'] = 0\n",
    "    df.pop('Score')\n",
    "    #filter sensitiv attribute\n",
    "    df['age'] = 1\n",
    "    df.loc[df['Age'] <= find_threshold(df,'Age',ppc_SA),'age'] = 0\n",
    "    df.pop('Age')\n",
    "    \n",
    "    #verify class and feature imbalance\n",
    "    print(\"Class Imbalance  : {}\".format(df['Label'].value_counts()[1]/len(df)))\n",
    "    print(\"Feature Imbalance: {}\".format(df['age'].value_counts()[0]/len(df)))\n",
    "    return df"
   ]
  },
  {
   "cell_type": "code",
   "execution_count": 87,
   "metadata": {},
   "outputs": [
    {
     "name": "stdout",
     "output_type": "stream",
     "text": [
      "Class Imbalance  : 0.24992842828514172\n",
      "Feature Imbalance: 0.3277984540509591\n",
      "Class Imbalance  : 0.25001889501927294\n",
      "Feature Imbalance: 0.32854659511752704\n",
      "Class Imbalance  : 0.25000664769856673\n",
      "Feature Imbalance: 0.328688807934693\n"
     ]
    }
   ],
   "source": [
    "## Generate dataset wit\n",
    "large_exemplar = generate_datasets(large,.25,.30)"
   ]
  },
  {
   "cell_type": "code",
   "execution_count": 88,
   "metadata": {},
   "outputs": [],
   "source": [
    "## Export the dataset generated to a .csv file\n",
    "large_exemplar.to_csv(\"large_exemplar.csv\")"
   ]
  },
  {
   "cell_type": "code",
   "execution_count": null,
   "metadata": {},
   "outputs": [],
   "source": []
  }
 ],
 "metadata": {
  "kernelspec": {
   "display_name": "Python 3",
   "language": "python",
   "name": "python3"
  },
  "language_info": {
   "codemirror_mode": {
    "name": "ipython",
    "version": 3
   },
   "file_extension": ".py",
   "mimetype": "text/x-python",
   "name": "python",
   "nbconvert_exporter": "python",
   "pygments_lexer": "ipython3",
   "version": "3.8.5"
  }
 },
 "nbformat": 4,
 "nbformat_minor": 4
}
