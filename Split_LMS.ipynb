{
 "cells": [
  {
   "cell_type": "code",
   "execution_count": 27,
   "metadata": {},
   "outputs": [],
   "source": [
    "import numpy as np\n",
    "import pandas as pd\n",
    "import os\n",
    "import glob"
   ]
  },
  {
   "cell_type": "code",
   "execution_count": 28,
   "metadata": {},
   "outputs": [],
   "source": [
    "extension = 'csv'\n",
    "all_filenames = [i for i in glob.glob('*.{}'.format(extension))]"
   ]
  },
  {
   "cell_type": "code",
   "execution_count": 83,
   "metadata": {},
   "outputs": [],
   "source": [
    "large = pd.concat([pd.read_csv(f) for f in all_filenames])\n",
    "large = large[['Location', 'NewHome', 'FTB','Age','Income','EmpSector','Occ','HouseComp','Education', 'Exp:Inc','LoanValue','LTV','LoanTerm','Interest','HouseVal','MRTI','Score']]\n",
    "large.to_csv(\"large.csv\")"
   ]
  },
  {
   "cell_type": "code",
   "execution_count": 84,
   "metadata": {},
   "outputs": [
    {
     "name": "stdout",
     "output_type": "stream",
     "text": [
      "['DataFile_1.csv', 'DataFile_10.csv', 'DataFile_11.csv', 'DataFile_12.csv', 'DataFile_13.csv']\n"
     ]
    }
   ],
   "source": [
    "medium = pd.concat([pd.read_csv(f) for f in all_filenames[:5]])\n",
    "print(all_filenames[:5])\n",
    "medium = medium[['Location', 'NewHome', 'FTB','Age','Income','EmpSector','Occ','HouseComp','Education', 'Exp:Inc','LoanValue','LTV','LoanTerm','Interest','HouseVal','MRTI','Score']]\n",
    "medium.to_csv(\"medium.csv\")"
   ]
  },
  {
   "cell_type": "code",
   "execution_count": 85,
   "metadata": {},
   "outputs": [
    {
     "name": "stdout",
     "output_type": "stream",
     "text": [
      "['DataFile_1.csv']\n"
     ]
    }
   ],
   "source": [
    "small = pd.concat([pd.read_csv(f) for f in all_filenames[:1]])\n",
    "print(all_filenames[:1])\n",
    "small = small[['Location', 'NewHome', 'FTB','Age','Income','EmpSector','Occ','HouseComp','Education', 'Exp:Inc','LoanValue','LTV','LoanTerm','Interest','HouseVal','MRTI','Score']]\n",
    "small.to_csv(\"small.csv\")"
   ]
  },
  {
   "cell_type": "code",
   "execution_count": 86,
   "metadata": {},
   "outputs": [],
   "source": [
    "def find_threshold(df,feature,ppc):\n",
    "    return np.quantile(df[str(feature)].values,ppc)\n",
    "\n",
    "def generate_datasets(df,ppc_label,ppc_SA):\n",
    "    #filter class label\n",
    "    df['Label'] = 1\n",
    "    df.loc[df['Score'] >= find_threshold(df,'Score',ppc_label),'Label'] = 0\n",
    "    df.pop('Score')\n",
    "    #filter sensitiv attribute\n",
    "    df['age'] = 1\n",
    "    df.loc[df['Age'] <= find_threshold(df,'Age',ppc_SA),'age'] = 0\n",
    "    df.pop('Age')\n",
    "    \n",
    "    #verify class and feature imbalance\n",
    "    print(\"Class Imbalance  : {}\".format(df['Label'].value_counts()[1]/len(df)))\n",
    "    print(\"Feature Imbalance: {}\".format(df['age'].value_counts()[0]/len(df)))\n",
    "    return df"
   ]
  },
  {
   "cell_type": "code",
   "execution_count": 87,
   "metadata": {},
   "outputs": [
    {
     "name": "stdout",
     "output_type": "stream",
     "text": [
      "Class Imbalance  : 0.24992842828514172\n",
      "Feature Imbalance: 0.3277984540509591\n",
      "Class Imbalance  : 0.25001889501927294\n",
      "Feature Imbalance: 0.32854659511752704\n",
      "Class Imbalance  : 0.25000664769856673\n",
      "Feature Imbalance: 0.328688807934693\n"
     ]
    }
   ],
   "source": [
    "small_exemplar = generate_datasets(small,.25,.30)\n",
    "medium_exemplar = generate_datasets(medium,.25,.30)\n",
    "large_exemplar = generate_datasets(large,.25,.30)"
   ]
  },
  {
   "cell_type": "code",
   "execution_count": 88,
   "metadata": {},
   "outputs": [],
   "source": [
    "small_exemplar.to_csv(\"small_exemplar.csv\")\n",
    "medium_exemplar.to_csv(\"medium_exemplar.csv\")\n",
    "large_exemplar.to_csv(\"large_exemplar.csv\")"
   ]
  },
  {
   "cell_type": "code",
   "execution_count": null,
   "metadata": {},
   "outputs": [],
   "source": []
  }
 ],
 "metadata": {
  "kernelspec": {
   "display_name": "Python 3",
   "language": "python",
   "name": "python3"
  },
  "language_info": {
   "codemirror_mode": {
    "name": "ipython",
    "version": 3
   },
   "file_extension": ".py",
   "mimetype": "text/x-python",
   "name": "python",
   "nbconvert_exporter": "python",
   "pygments_lexer": "ipython3",
   "version": "3.8.5"
  }
 },
 "nbformat": 4,
 "nbformat_minor": 4
}
